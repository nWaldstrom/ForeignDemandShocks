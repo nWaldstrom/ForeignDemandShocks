{
 "cells": [
  {
   "cell_type": "code",
   "execution_count": 1,
   "id": "ae5f000f",
   "metadata": {},
   "outputs": [],
   "source": [
    "%load_ext autoreload\n",
    "%autoreload 2\n",
    "import sys \n",
    "sys.path.insert(0, './Main')\n",
    "\n",
    "import time\n",
    "import numpy as np\n",
    "from copy import deepcopy\n",
    "\n",
    "import matplotlib.pyplot as plt   \n",
    "import matplotlib as mpl\n",
    "plt.style.use('seaborn-whitegrid')\n",
    "prop_cycle = plt.rcParams['axes.prop_cycle']\n",
    "colors = prop_cycle.by_key()['color']\n",
    "\n",
    "from IHANKModel import HANKModelClass\n",
    "import utils\n",
    "import comp"
   ]
  },
  {
   "cell_type": "markdown",
   "id": "240ce41a",
   "metadata": {},
   "source": [
    "## Check solve speed "
   ]
  },
  {
   "cell_type": "markdown",
   "id": "0037ebed",
   "metadata": {},
   "source": [
    "### HANK "
   ]
  },
  {
   "cell_type": "code",
   "execution_count": 2,
   "id": "44b36798",
   "metadata": {
    "tags": []
   },
   "outputs": [
    {
     "name": "stdout",
     "output_type": "stream",
     "text": [
      "household Jacobians:\n",
      "one step deviation from steady state calculated in 0.0 secs\n",
      "curly_Y and curly_D calculated for LT              in 3.1 secs\n",
      "curly_Y and curly_D calculated for NNT             in 3.5 secs\n",
      "curly_Y and curly_D calculated for NT              in 3.5 secs\n",
      "curly_Y and curly_D calculated for UniformT        in 3.5 secs\n",
      "curly_Y and curly_D calculated for eps_beta      in 3.1 secs\n",
      "curly_Y and curly_D calculated for ra              in 3.5 secs\n",
      "curly_Y and curly_D calculated for wnNT            in 3.5 secs\n",
      "curly_Y and curly_D calculated for wnT             in 3.5 secs\n",
      "curly_E calculated in 2.5 secs\n",
      "builiding blocks combined in 0.4 secs\n",
      "household Jacobian computed in 30.3 secs\n",
      "\n",
      "full Jacobians:\n",
      "full Jacobian to unknowns computed in 2.0 mins 15 secs [in evaluate_path(): 2.0 mins 13 secs]\n",
      "household Jacobians:\n",
      "one step deviation from steady state calculated in 0.0 secs\n",
      "curly_Y and curly_D calculated for LT              in 2.7 secs\n",
      "curly_Y and curly_D calculated for NNT             in 3.5 secs\n",
      "curly_Y and curly_D calculated for NT              in 3.1 secs\n",
      "curly_Y and curly_D calculated for UniformT        in 3.5 secs\n",
      "curly_Y and curly_D calculated for eps_beta      in 3.5 secs\n",
      "curly_Y and curly_D calculated for ra              in 3.1 secs\n",
      "curly_Y and curly_D calculated for wnNT            in 3.5 secs\n",
      "curly_Y and curly_D calculated for wnT             in 3.5 secs\n",
      "curly_E calculated in 1.2 secs\n",
      "builiding blocks combined in 0.3 secs\n",
      "household Jacobian computed in 28.0 secs\n",
      "\n",
      "full Jacobians:\n",
      "full Jacobian to unknowns computed in 48.6 secs [in evaluate_path(): 46.4 secs]\n",
      "Finished!\n"
     ]
    }
   ],
   "source": [
    "model =  HANKModelClass(name='baseline')\n",
    "model.par.HH_type = 'HA'\n",
    "model.find_ss(do_print=False) \n",
    "for i in range(2):\n",
    "    model.compute_jacs(do_print=True,skip_shocks=True,skip_hh=False)\n",
    "    utils.Create_shock('G_exo', model, 0.001)\n",
    "    model.find_transition_path(do_print=False)\n",
    "print('Finished!')"
   ]
  },
  {
   "cell_type": "markdown",
   "id": "8796cad5",
   "metadata": {},
   "source": [
    "### RANK"
   ]
  },
  {
   "cell_type": "code",
   "execution_count": 5,
   "id": "e903d111",
   "metadata": {},
   "outputs": [
    {
     "name": "stdout",
     "output_type": "stream",
     "text": [
      "full Jacobians:\n",
      "full Jacobian to unknowns computed in 24.2 secs [in evaluate_path(): 16.5 secs]\n",
      "full Jacobians:\n",
      "full Jacobian to unknowns computed in 24.1 secs [in evaluate_path(): 16.5 secs]\n"
     ]
    }
   ],
   "source": [
    "model =  HANKModelClass(name='baseline')\n",
    "model.par.HH_type = 'RA-IM'\n",
    "\n",
    "for i in range(2):\n",
    "    model.find_ss(do_print=False)    \n",
    "    model.compute_jacs(do_print=True,skip_shocks=True,skip_hh=True)\n",
    "    utils.Create_shock('G_exo', model, 0.001)\n",
    "    model.find_transition_path(do_print=False)"
   ]
  },
  {
   "cell_type": "markdown",
   "id": "38313fbc-0819-402d-ba51-5a94b75463ef",
   "metadata": {},
   "source": [
    "## Block structure"
   ]
  },
  {
   "cell_type": "code",
   "execution_count": 13,
   "id": "e9169d80-b005-45cb-a471-cda52f78f319",
   "metadata": {},
   "outputs": [
    {
     "name": "stdout",
     "output_type": "stream",
     "text": [
      "####### Without block structure #######\n",
      "household Jacobians:\n",
      "one step deviation from steady state calculated in 0.0 secs\n",
      "curly_Y and curly_D calculated for LT              in 3.2 secs\n",
      "curly_Y and curly_D calculated for NNT             in 3.6 secs\n",
      "curly_Y and curly_D calculated for NT              in 3.6 secs\n",
      "curly_Y and curly_D calculated for UniformT        in 4.0 secs\n",
      "curly_Y and curly_D calculated for eps_beta      in 3.6 secs\n",
      "curly_Y and curly_D calculated for ra              in 3.6 secs\n",
      "curly_Y and curly_D calculated for wnNT            in 3.6 secs\n",
      "curly_Y and curly_D calculated for wnT             in 3.6 secs\n",
      "curly_E calculated in 1.3 secs\n",
      "builiding blocks combined in 0.4 secs\n",
      "household Jacobian computed in 30.3 secs\n",
      "\n",
      "full Jacobians:\n",
      "full Jacobian to unknowns computed in 2.0 mins 19 secs [in evaluate_path(): 2.0 mins 16 secs]\n"
     ]
    }
   ],
   "source": [
    "print('####### Without block structure #######')\n",
    "model =  HANKModelClass(name='baseline')\n",
    "model.par.HH_type = 'HA'\n",
    "model.find_ss(do_print=False) \n",
    "model.compute_jacs(do_print=True,skip_shocks=True,skip_hh=False)\n",
    "utils.Create_shock('G_exo', model, 0.001, absval=True)\n",
    "model.transition_path(do_print=False)"
   ]
  },
  {
   "cell_type": "code",
   "execution_count": 2,
   "id": "08075054-8f04-4b80-9cad-50ddfcd7f44a",
   "metadata": {},
   "outputs": [
    {
     "name": "stdout",
     "output_type": "stream",
     "text": [
      "####### With block structure #######\n",
      "household Jacobians:\n",
      "one step deviation from steady state calculated in 0.0 secs\n",
      "curly_Y and curly_D calculated for LT              in 3.0 secs\n",
      "curly_Y and curly_D calculated for NNT             in 3.5 secs\n",
      "curly_Y and curly_D calculated for NT              in 3.1 secs\n",
      "curly_Y and curly_D calculated for UniformT        in 3.5 secs\n",
      "curly_Y and curly_D calculated for eps_beta      in 3.5 secs\n",
      "curly_Y and curly_D calculated for ra              in 3.5 secs\n",
      "curly_Y and curly_D calculated for wnNT            in 3.5 secs\n",
      "curly_Y and curly_D calculated for wnT             in 3.5 secs\n",
      "curly_E calculated in 2.5 secs\n",
      "builiding blocks combined in 0.3 secs\n",
      "household Jacobian computed in 30.1 secs\n",
      "\n",
      "full Jacobians:\n",
      "full Jacobian to unknowns computed in 1.0 mins 60 secs [in evaluate_path(): 1.0 mins 58 secs]\n"
     ]
    }
   ],
   "source": [
    "print('####### With block structure #######')\n",
    "model_block =  HANKModelClass(name='baseline')\n",
    "model_block.par.HH_type = 'HA'\n",
    "model_block.find_ss(do_print=False) \n",
    "\n",
    "from transition_path_blocks import block_pre, block_post\n",
    "model_block.block_pre = block_pre\n",
    "model_block.block_post = block_post\n",
    "\n",
    "model_block.compute_jacs(do_print=True,skip_shocks=True,skip_hh=False)\n",
    "utils.Create_shock('G_exo', model_block, 0.001, absval=True)\n",
    "model_block.transition_path(do_print=False)"
   ]
  },
  {
   "cell_type": "code",
   "execution_count": 19,
   "id": "d4be4408-f362-47bf-be43-7ab1d1d1aebc",
   "metadata": {},
   "outputs": [
    {
     "name": "stdout",
     "output_type": "stream",
     "text": [
      "None\n"
     ]
    }
   ],
   "source": [
    "print(np.testing.assert_allclose(model.path.C,  model_block.path.C, atol=1e-8, rtol=1e-04))"
   ]
  },
  {
   "cell_type": "code",
   "execution_count": 15,
   "id": "7f5c69cc-4481-45cc-99db-2015311f55d1",
   "metadata": {},
   "outputs": [
    {
     "data": {
      "image/png": "[encoded data removed]",
      "text/plain": [
       "<Figure size 432x288 with 1 Axes>"
      ]
     },
     "metadata": {},
     "output_type": "display_data"
    },
    {
     "data": {
      "image/png": "[encoded data removed]",
      "text/plain": [
       "<Figure size 432x288 with 1 Axes>"
      ]
     },
     "metadata": {},
     "output_type": "display_data"
    }
   ],
   "source": [
    "dC = (model.path.C[0,:30]/model.ss.C-1)*100\n",
    "dC_block = (model_block.path.C[0,:30]/model_block.ss.C-1)*100\n",
    "\n",
    "plt.plot(dC)\n",
    "plt.plot(dC_block, '--')\n",
    "plt.show()\n",
    "\n",
    "dG = (model.path.G[0,:30]/model.ss.G-1)*100\n",
    "dG_block = (model_block.path.G[0,:30]/model_block.ss.G-1)*100\n",
    "\n",
    "plt.plot(dG)\n",
    "plt.plot(dG_block, '--')\n",
    "plt.show()"
   ]
  },
  {
   "cell_type": "markdown",
   "id": "1f013aad-0433-4c8c-994b-b926186e458c",
   "metadata": {},
   "source": [
    "## Higher T"
   ]
  },
  {
   "cell_type": "code",
   "execution_count": 2,
   "id": "28339af5",
   "metadata": {},
   "outputs": [
    {
     "name": "stdout",
     "output_type": "stream",
     "text": [
      "full Jacobians:\n",
      "full Jacobian to unknowns computed in 1.0 mins 44 secs [in evaluate_path(): 1.0 mins 21 secs]\n",
      "full Jacobians:\n",
      "full Jacobian to unknowns computed in 31.0 secs [in evaluate_path(): 8.5 secs]\n"
     ]
    }
   ],
   "source": [
    "model =  HANKModelClass(name='baseline', par={'T' : 1000})\n",
    "model.par.HH_type = 'RA-IM'\n",
    "\n",
    "\n",
    "for i in range(2):\n",
    "    model.find_ss(do_print=False)    \n",
    "    model.compute_jacs(do_print=True,skip_shocks=True,skip_hh=True)\n",
    "    utils.Create_shock('G_exo', model, 0.001)\n",
    "    model.find_transition_path(do_print=False)"
   ]
  },
  {
   "cell_type": "code",
   "execution_count": 2,
   "id": "0a471c8c-1461-4535-b501-ead9ab81b50b",
   "metadata": {},
   "outputs": [
    {
     "name": "stdout",
     "output_type": "stream",
     "text": [
      "full Jacobians:\n",
      "full Jacobian to unknowns computed in 2.0 mins 24 secs [in evaluate_path(): 1.0 mins 34 secs]\n",
      "full Jacobians:\n",
      "full Jacobian to unknowns computed in 1.0 mins 10 secs [in evaluate_path(): 19.3 secs]\n"
     ]
    }
   ],
   "source": [
    "model =  HANKModelClass(name='baseline', par={'T' : 1500})\n",
    "model.par.HH_type = 'RA-IM'\n",
    "\n",
    "\n",
    "for i in range(2):\n",
    "    model.find_ss(do_print=False)    \n",
    "    model.compute_jacs(do_print=True,skip_shocks=True,skip_hh=True)\n",
    "    utils.Create_shock('G_exo', model, 0.001)\n",
    "    model.find_transition_path(do_print=False)"
   ]
  },
  {
   "cell_type": "code",
   "execution_count": null,
   "id": "c250f1f6-6273-42ea-aa3e-de9e406a7562",
   "metadata": {},
   "outputs": [],
   "source": []
  }
 ],
 "metadata": {
  "kernelspec": {
   "display_name": "Python 3 (ipykernel)",
   "language": "python",
   "name": "python3"
  },
  "language_info": {
   "codemirror_mode": {
    "name": "ipython",
    "version": 3
   },
   "file_extension": ".py",
   "mimetype": "text/x-python",
   "name": "python",
   "nbconvert_exporter": "python",
   "pygments_lexer": "ipython3",
   "version": "3.9.7"
  }
 },
 "nbformat": 4,
 "nbformat_minor": 5
}
